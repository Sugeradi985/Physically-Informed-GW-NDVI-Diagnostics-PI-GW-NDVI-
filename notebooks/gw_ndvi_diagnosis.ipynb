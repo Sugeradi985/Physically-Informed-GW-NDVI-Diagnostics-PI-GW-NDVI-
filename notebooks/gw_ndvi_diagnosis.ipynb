# %% [markdown]
# # Physically-Informed GW-NDVI Diagnosis
# Author: Your Name | Date: 2025-10-06

# %%
from src.data_loader import load_and_align
from src.feature_engineering import build_features
from src.phys_informed_lgbm import train_phys_informed_lgbm
from src.spatial_shap_mapper import generate_spatial_shap_maps

# Load data (GRACE ΔGW, MODIS NDVI, CHIRPS, Irrigation)
aligned = load_and_align(
    delta_gw="../data/raw/grace_delta_gw.nc",
    ndvi="../data/raw/ndvi.nc",
    precip="../data/raw/Precip.nc",
    irrigation="../data/external/gmia_irrigation.nc"
)

# Build GRACE-scale features
df, feat_cols = build_features(aligned, lags=[1, 2])

# Train physics-informed model
model = train_phys_informed_lgbm(df, feat_cols, lambda_phys=0.2)

# Generate spatial SHAP maps
generate_spatial_shap_maps(model, aligned, feat_cols, output_dir="../output/shap_maps/")
