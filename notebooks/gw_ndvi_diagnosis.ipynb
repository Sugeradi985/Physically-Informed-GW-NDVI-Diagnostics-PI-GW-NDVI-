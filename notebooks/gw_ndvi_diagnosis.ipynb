# %% [markdown]
# # 地下水-植被耦合关系诊断分析
# **目标**：评估 NDVI（含滞后）与气候变量对 ΔGW 的预测能力，并解释空间异质性
# 
# **作者**：Your Name  
# **日期**：2025-10-06
 

# %% [markdown]
# # Jupyter 交互式 Notebook 模板（基于 jupytemplate）
# 集成 数据加载 → 特征工程 → 模型训练 → SHAP 解释 → 空间制图 全流程
# 
# 支持 %load_ext autoreload 实时调试
# **日期**：2025-10-06

# %%
# %% [markdown]
# ## 1. 环境配置

# %%
%load_ext autoreload
%autoreload 2
import sys
sys.path.append("..")

import warnings
warnings.filterwarnings("ignore")

import numpy as np
import pandas as pd
import xarray as xr
import matplotlib.pyplot as plt
import seaborn as sns
sns.set(style="whitegrid")

# %%
# %% [markdown]
# ## 2. 数据加载

# %%
from your_module import load_and_align

aligned = load_and_align(
    delta_gw="data/delta_gw.nc",
    ndvi="data/ndvi.nc",
    precip="data/precip.nc",
    temp="data/temp.nc"
)

print("✅ 数据加载完成")
for k, v in aligned.items():
    print(f"  {k}: {v.dims} | {v.time[0].dt.year.item()}–{v.time[-1].dt.year.item()}")

# %%
# %% [markdown]
# ## 3. 特征构建与模型训练

# %%
from your_module import build_dataset, train_and_evaluate

df, feature_cols = build_dataset(aligned, lags=[1, 2], task="classification")
model, X_train, X_test, y_train, y_test, y_pred = train_and_evaluate(df, feature_cols, task="classification")

# %%
# %% [markdown]
# ## 4. SHAP 可解释性分析

# %%
import shap
explainer = shap.TreeExplainer(model)
shap_values = explainer.shap_values(X_test)

# 全局重要性
shap.summary_plot(shap_values, X_test, feature_names=feature_cols)

# %%
# 依赖图：NDVI vs Precip
idx_ndvi = feature_cols.index("NDVI")
idx_precip = feature_cols.index("Precip") if "Precip" in feature_cols else None
shap.dependence_plot(idx_ndvi, shap_values, X_test, feature_names=feature_cols, interaction_index=idx_precip)

# %%
# %% [markdown]
# ## 5. 空间 SHAP 制图

# %%
from spatial_shap_mapper import generate_spatial_shap_maps
generate_spatial_shap_maps(model, aligned, feature_cols, output_dir="output/shap_maps/")

# 可视化示例
shap_ndvi = xr.open_dataarray("output/shap_maps/shap_NDVI.nc")
shap_ndvi.isel(time=-1).plot(cmap="RdBu", center=0)
plt.title("SHAP Contribution of NDVI (Last Month)");

# %%
# %% [markdown]
# ## 6. 结论与讨论
# - 若 `NDVI_lag1` 贡献显著 > `NDVI`，说明植被响应存在滞后  
# - 若干旱区 `Precip` SHAP 值高，表明降水是主要驱动  
# - 分类准确率 > 65% 支持植被作为地下水变化代理指标
